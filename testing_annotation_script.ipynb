{
 "cells": [
  {
   "cell_type": "code",
   "execution_count": 1,
   "metadata": {},
   "outputs": [
    {
     "name": "stdout",
     "output_type": "stream",
     "text": [
      "Requirement already satisfied: opencv-python in /home/rafay/anaconda3/lib/python3.12/site-packages (4.10.0.84)\n",
      "Requirement already satisfied: numpy>=1.21.2 in /home/rafay/anaconda3/lib/python3.12/site-packages (from opencv-python) (1.26.4)\n",
      "\n",
      "\u001b[1m[\u001b[0m\u001b[34;49mnotice\u001b[0m\u001b[1;39;49m]\u001b[0m\u001b[39;49m A new release of pip is available: \u001b[0m\u001b[31;49m24.1.2\u001b[0m\u001b[39;49m -> \u001b[0m\u001b[32;49m24.3.1\u001b[0m\n",
      "\u001b[1m[\u001b[0m\u001b[34;49mnotice\u001b[0m\u001b[1;39;49m]\u001b[0m\u001b[39;49m To update, run: \u001b[0m\u001b[32;49mpip install --upgrade pip\u001b[0m\n"
     ]
    }
   ],
   "source": [
    "!pip3 install opencv-python\n",
    "\n",
    "# apt-get update && apt-get install ffmpeg libsm6 libxext6 -y"
   ]
  },
  {
   "cell_type": "code",
   "execution_count": 1,
   "metadata": {},
   "outputs": [],
   "source": [
    "import os\n",
    "import cv2\n",
    "import pickle\n",
    "import numpy as np\n",
    "import json"
   ]
  },
  {
   "cell_type": "code",
   "execution_count": 2,
   "metadata": {},
   "outputs": [],
   "source": [
    "root_path = \"/home/rafay/Documents/rafay/MyFolder_other_stuff/WSL_and_Stuff/other/open_source/3D_RetinaNet_ObjectDetection\""
   ]
  },
  {
   "cell_type": "code",
   "execution_count": 3,
   "metadata": {},
   "outputs": [],
   "source": [
    "anno_file = os.path.join(root_path, \"road/road_trainval_v1.0.json\")\n",
    "\n",
    "with open(anno_file, \"r\") as fff:\n",
    "    final_annots = json.load(fff)"
   ]
  },
  {
   "cell_type": "code",
   "execution_count": 4,
   "metadata": {},
   "outputs": [],
   "source": [
    "# Define class lists\n",
    "agent_labels = final_annots[\"agent_labels\"]\n",
    "action_labels = final_annots[\"action_labels\"]\n",
    "loc_labels = final_annots[\"loc_labels\"]\n",
    "duplex_labels = final_annots[\"duplex_labels\"]\n",
    "triplet_labels = final_annots[\"triplet_labels\"]\n",
    "del final_annots"
   ]
  },
  {
   "cell_type": "code",
   "execution_count": 7,
   "metadata": {},
   "outputs": [],
   "source": [
    "def get_pred_class_labels(detection_):\n",
    "    \"\"\"\n",
    "    This function extracts the predicted class labels from a detection array.\n",
    "\n",
    "    Parameters:\n",
    "    detection_ (numpy.ndarray): A 1D numpy array representing a detection. The array contains\n",
    "        probabilities for different classes. The first 5 elements are not used for class prediction.\n",
    "        The elements from index 5 to 14 represent probabilities for agent labels.\n",
    "        The elements from index 15 to 33 represent probabilities for action labels.\n",
    "        The elements from index 34 to 45 represent probabilities for location labels.\n",
    "        The elements from index 46 to 84 represent probabilities for duplex labels.\n",
    "        The elements from index 85 onwards represent probabilities for triplet labels.\n",
    "\n",
    "    Returns:\n",
    "    tuple: A tuple containing the predicted class labels for agent, action, location, duplex, and triplet.\n",
    "    \"\"\"\n",
    "    agent_label_ = agent_labels[np.argmax(detection_[5:15])]\n",
    "    action_label_ = action_labels[np.argmax(detection_[15:34])]\n",
    "    loc_label_ = loc_labels[np.argmax(detection_[34:46])]\n",
    "    duplex_label_ = duplex_labels[np.argmax(detection_[46:85])]\n",
    "    triplet_label_ = triplet_labels[np.argmax(detection_[85:])]\n",
    "    return agent_label_, action_label_, loc_label_, duplex_label_, triplet_label_"
   ]
  },
  {
   "cell_type": "code",
   "execution_count": 8,
   "metadata": {},
   "outputs": [],
   "source": [
    "def annotate_frames(det_save_dir, video_frames_dir, output_dir):\n",
    "    \"\"\"\n",
    "    Annotate video frames with object detections and save the annotated frames.\n",
    "\n",
    "    This function processes detection files for each video, loads corresponding frames,\n",
    "    draws bounding boxes and labels for detected objects, and saves the annotated frames.\n",
    "\n",
    "    Parameters:\n",
    "    det_save_dir (str): Directory containing detection files for each video.\n",
    "    video_frames_dir (str): Directory containing original video frames.\n",
    "    output_dir (str): Directory where annotated frames will be saved.\n",
    "\n",
    "    Returns:\n",
    "    None. The function saves annotated frames to the specified output directory.\n",
    "    \"\"\"\n",
    "    if not os.path.exists(output_dir):\n",
    "        os.makedirs(output_dir)\n",
    "\n",
    "    for video_name in os.listdir(det_save_dir):\n",
    "        video_det_path = os.path.join(det_save_dir, video_name)\n",
    "        video_frame_path = os.path.join(video_frames_dir, video_name)\n",
    "        output_video_dir = os.path.join(output_dir, video_name)\n",
    "\n",
    "        if not os.path.exists(output_video_dir):\n",
    "            os.makedirs(output_video_dir)\n",
    "\n",
    "        detection_files = sorted(os.listdir(video_det_path))  # Ensure file order\n",
    "        for det_file in detection_files:\n",
    "            frame_index = int(det_file.split('.')[0])  # Extract frame number\n",
    "            det_path = os.path.join(video_det_path, det_file)\n",
    "            frame_path = os.path.join(video_frame_path, f\"{frame_index:05d}.jpg\")  # Assuming frames are named numerically\n",
    "\n",
    "            if not os.path.exists(frame_path):\n",
    "                print(f\"Frame {frame_path} not found, skipping.\")\n",
    "                continue\n",
    "\n",
    "            # Load the frame\n",
    "            frame = cv2.imread(frame_path)\n",
    "\n",
    "            # Load detections\n",
    "            with open(det_path, \"rb\") as f:\n",
    "                detection_data = pickle.load(f)\n",
    "\n",
    "            # Annotate object detections\n",
    "            for det in detection_data[\"main\"]:\n",
    "                bbox = det[:4]  # x1, y1, x2, y2\n",
    "                score = det[4]\n",
    "                x1, y1, x2, y2 = map(int, bbox)\n",
    "                x1, y1, x2, y2 = int(x1*1.9), int(y1*1.875), int(x2*1.9), int(y2*1.875)\n",
    "                agent_label_, action_label_, loc_label_, duplex_label_, triplet_label_ = get_pred_class_labels(det)\n",
    "                COLORS = (np.random.randint(0,255), np.random.randint(0,255), np.random.randint(0,255))\n",
    "                if score>=0.5:\n",
    "                    cv2.rectangle(frame, (x1, y1), (x2, y2), color=COLORS, thickness=2)  # random unique list(COLORS)\n",
    "                    cv2.putText(\n",
    "                        frame, \" \".join(triplet_label_, ), (x1, y1 - 15),\n",
    "                        cv2.FONT_HERSHEY_SIMPLEX, 0.5, color=COLORS, thickness=1\n",
    "                    )\n",
    "\n",
    "            # Save annotated frame\n",
    "            output_frame_path = os.path.join(output_video_dir, f\"{frame_index:05d}.jpg\")\n",
    "            cv2.imwrite(output_frame_path, frame)\n",
    "            print(f\"Annotated frame saved to {output_frame_path}.\")"
   ]
  },
  {
   "cell_type": "code",
   "execution_count": 10,
   "metadata": {},
   "outputs": [],
   "source": [
    "# Paths\n",
    "root_path\n",
    "det_save_dir = os.path.join(root_path, \"road/temp_ann_dir/detections\")\n",
    "video_frames_dir = os.path.join(root_path, \"road/temp_ann_dir/frames\")\n",
    "output_dir = os.path.join(root_path, \"road/temp_ann_dir/annotated\")"
   ]
  },
  {
   "cell_type": "code",
   "execution_count": null,
   "metadata": {},
   "outputs": [],
   "source": [
    "# Annotate frames\n",
    "annotate_frames(det_save_dir, video_frames_dir, output_dir)"
   ]
  },
  {
   "cell_type": "code",
   "execution_count": null,
   "metadata": {},
   "outputs": [],
   "source": []
  }
 ],
 "metadata": {
  "kernelspec": {
   "display_name": "base",
   "language": "python",
   "name": "python3"
  },
  "language_info": {
   "codemirror_mode": {
    "name": "ipython",
    "version": 3
   },
   "file_extension": ".py",
   "mimetype": "text/x-python",
   "name": "python",
   "nbconvert_exporter": "python",
   "pygments_lexer": "ipython3",
   "version": "3.12.4"
  }
 },
 "nbformat": 4,
 "nbformat_minor": 2
}
